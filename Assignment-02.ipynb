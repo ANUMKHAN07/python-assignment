{
 "cells": [
  {
   "cell_type": "code",
   "execution_count": 1,
   "metadata": {},
   "outputs": [
    {
     "name": "stdout",
     "output_type": "stream",
     "text": [
      "Enter your 5 subjects marks out of 100 one at a time\n",
      "Enter marks of subject1: 87\n",
      "Enter marks of subject2: 73\n",
      "Enter marks of subject3: 98\n",
      "Enter marks of subject4: 60\n",
      "Enter marks of subject5: 87\n",
      "percentage = 81.0\n",
      "grade = A\n"
     ]
    }
   ],
   "source": [
    "# Write a program which takes 5 inputs from user for different subject’s\n",
    "\n",
    "# marks, total it and generate mark sheet using grades ?\n",
    " \n",
    "print(\"Enter your 5 subjects marks out of 100 one at a time\")\n",
    " \n",
    "subject1 = float(input(\"Enter marks of subject1: \"))\n",
    "\n",
    "subject2 = float(input(\"Enter marks of subject2: \"))\n",
    "\n",
    "subject3 = float(input(\"Enter marks of subject3: \"))\n",
    "\n",
    "subject4 = float(input(\"Enter marks of subject4: \"))\n",
    "\n",
    "subject5 = float(input(\"Enter marks of subject5: \"))\n",
    "\n",
    "add = subject1 + subject2 + subject3 + subject4 + subject5 \n",
    " \n",
    "avg = add/5\n",
    " \n",
    "if(avg>=90):\n",
    " \n",
    "    print(\"percentage = \" + str(avg))\n",
    " \n",
    "    print(\"grade = A+\")\n",
    " \n",
    "elif(avg>=80):\n",
    " \n",
    "    print(\"percentage = \" + str(avg))\n",
    " \n",
    "    print(\"grade = A\")\n",
    " \n",
    "elif(avg>=70):\n",
    "\n",
    "    print(\"percentage = \" + str(avg))\n",
    " \n",
    "    print(\"grade = B\")\n",
    " \n",
    "elif(avg>=60):\n",
    " \n",
    "    print(\"percentage = \" + str(avg))\n",
    " \n",
    "    print(\"grade = C\")\n",
    " \n",
    "elif(avg>=50):\n",
    " \n",
    "    print(\"percentage = \" + str(avg))\n",
    " \n",
    "    print(\"grade = D\")  \n",
    " \n",
    "else:\n",
    " \n",
    "    print(\"percentage = \" + str(avg))\n",
    " \n",
    "    print(\"grade = FAIL\")"
   ]
  },
  {
   "cell_type": "code",
   "execution_count": 2,
   "metadata": {},
   "outputs": [
    {
     "name": "stdout",
     "output_type": "stream",
     "text": [
      "Enter any integer number: 12\n",
      "you have entered an even number\n"
     ]
    }
   ],
   "source": [
    "# Write a program which take input from user and identify that the given\n",
    " \n",
    "# number is even or odd?\n",
    " \n",
    "no = int(input(\"Enter any integer number: \"))   \n",
    " \n",
    "if(no%2 == 0):\n",
    " \n",
    "    print(\"you have entered an even number\")\n",
    " \n",
    "else:\n",
    "\n",
    "    print(\"you have entered an odd number\")"
   ]
  },
  {
   "cell_type": "code",
   "execution_count": 3,
   "metadata": {},
   "outputs": [
    {
     "name": "stdout",
     "output_type": "stream",
     "text": [
      "6\n"
     ]
    }
   ],
   "source": [
    "list1 = [1,2,3,4,5,6]\n",
    " \n",
    "l = len(list1)\n",
    " \n",
    "print(l)"
   ]
  },
  {
   "cell_type": "code",
   "execution_count": 5,
   "metadata": {},
   "outputs": [
    {
     "name": "stdout",
     "output_type": "stream",
     "text": [
      "How many numbers you want to enter: 5\n",
      "Enter number 12\n",
      "Enter number 32\n",
      "Enter number 54\n",
      "Enter number 37\n",
      "Enter number 41\n",
      "Sum of elements in given list is : 176\n"
     ]
    }
   ],
   "source": [
    "lst = []\n",
    " \n",
    "num = int(input('How many numbers you want to enter: '))\n",
    " \n",
    "for n in range(num):\n",
    " \n",
    "    numbers = int(input('Enter number '))\n",
    " \n",
    "    lst.append(numbers)\n",
    " \n",
    "print(\"Sum of elements in given list is :\", sum(lst))"
   ]
  },
  {
   "cell_type": "code",
   "execution_count": 6,
   "metadata": {},
   "outputs": [
    {
     "name": "stdout",
     "output_type": "stream",
     "text": [
      "How many numbers you want to enter: 6\n",
      "Enter number 31\n",
      "Enter number 87\n",
      "Enter number 99\n",
      "Enter number 100\n",
      "Enter number 6\n",
      "Enter number 79\n",
      "Maximum element in the list is : 100\n"
     ]
    }
   ],
   "source": [
    "lst = []\n",
    " \n",
    "num = int(input('How many numbers you want to enter: '))\n",
    " \n",
    "for n in range(num):\n",
    " \n",
    "    numbers = int(input('Enter number '))\n",
    "\n",
    "    lst.append(numbers)\n",
    " \n",
    "print(\"Maximum element in the list is :\", max(lst))"
   ]
  },
  {
   "cell_type": "code",
   "execution_count": 7,
   "metadata": {},
   "outputs": [
    {
     "name": "stdout",
     "output_type": "stream",
     "text": [
      "1\n",
      "1\n",
      "2\n",
      "3\n",
      "[1, 1, 2, 3]\n"
     ]
    }
   ],
   "source": [
    "a = [1, 1, 2, 3, 5, 8, 13, 21, 34, 55, 89]\n",
    " \n",
    "for i in a:\n",
    "\n",
    "    if i < 5:\n",
    " \n",
    "        print(i)\n",
    "\n",
    "x=[i for i in a if i <5]\n",
    " \n",
    "print(x)"
   ]
  },
  {
   "cell_type": "code",
   "execution_count": null,
   "metadata": {},
   "outputs": [],
   "source": []
  }
 ],
 "metadata": {
  "kernelspec": {
   "display_name": "Python 3",
   "language": "python",
   "name": "python3"
  },
  "language_info": {
   "codemirror_mode": {
    "name": "ipython",
    "version": 3
   },
   "file_extension": ".py",
   "mimetype": "text/x-python",
   "name": "python",
   "nbconvert_exporter": "python",
   "pygments_lexer": "ipython3",
   "version": "3.7.4"
  }
 },
 "nbformat": 4,
 "nbformat_minor": 2
}
