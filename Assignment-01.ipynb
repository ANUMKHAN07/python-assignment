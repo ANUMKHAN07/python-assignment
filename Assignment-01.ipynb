{
 "cells": [
  {
   "cell_type": "code",
   "execution_count": 2,
   "metadata": {},
   "outputs": [
    {
     "name": "stdout",
     "output_type": "stream",
     "text": [
      "Twinkle, twinkle, little star,\n",
      "\n",
      "      How I wonder what you are!\n",
      " \n",
      "            Up above the world so high,\n",
      " \n",
      "            Like a diamond in the sky.\n",
      " \n",
      "Twinkle, twinkle, little star,\n",
      "\n",
      "      How I wonder what you are\n"
     ]
    }
   ],
   "source": [
    "#Write a Python program to print the following string in a specific format\n",
    "\n",
    "#(see the output).\n",
    "\n",
    "#Twinkle, twinkle, little star,\n",
    " \n",
    "#How I wonder what you are!\n",
    "\n",
    "#Up above the world so high,\n",
    " \n",
    "#Like a diamond in the sky.\n",
    "\n",
    "#Twinkle, twinkle, little star,\n",
    "\n",
    "#How I wonder what you are\n",
    "\n",
    "\n",
    "print(\"\"\"Twinkle, twinkle, little star,\n",
    "\n",
    "      How I wonder what you are!\n",
    " \n",
    "            Up above the world so high,\n",
    " \n",
    "            Like a diamond in the sky.\n",
    " \n",
    "Twinkle, twinkle, little star,\n",
    "\n",
    "      How I wonder what you are\"\"\")"
   ]
  },
  {
   "cell_type": "code",
   "execution_count": 3,
   "metadata": {},
   "outputs": [
    {
     "name": "stdout",
     "output_type": "stream",
     "text": [
      "3.7.4 (default, Aug  9 2019, 18:34:13) [MSC v.1915 64 bit (AMD64)]\n",
      "sys.version_info(major=3, minor=7, micro=4, releaselevel='final', serial=0)\n"
     ]
    }
   ],
   "source": [
    "#Write a Python program to get the Python version you are using\n",
    "\n",
    "import sys\n",
    "\n",
    "print(sys.version)\n",
    " \n",
    "print(sys.version_info)"
   ]
  },
  {
   "cell_type": "code",
   "execution_count": 4,
   "metadata": {},
   "outputs": [
    {
     "name": "stdout",
     "output_type": "stream",
     "text": [
      "Current date and time : \n",
      "2019-11-28 18:32:38\n"
     ]
    }
   ],
   "source": [
    "#Write a Python program to display the current date and time.\n",
    "\n",
    "import datetime\n",
    " \n",
    "now = datetime.datetime.now()\n",
    " \n",
    "print (\"Current date and time : \")\n",
    "\n",
    "print (now.strftime(\"%Y-%m-%d %H:%M:%S\"))"
   ]
  },
  {
   "cell_type": "code",
   "execution_count": 5,
   "metadata": {},
   "outputs": [
    {
     "name": "stdout",
     "output_type": "stream",
     "text": [
      "Enter radius of a circle: 2\n",
      "area of circle having radius 2.0 is: 12.571428571428571\n"
     ]
    }
   ],
   "source": [
    "# compute area of a circle \n",
    " \n",
    "r = float(input(\"Enter radius of a circle: \"))\n",
    " \n",
    "area = 22/7*r*r\n",
    " \n",
    "print(\"area of circle having radius \" + str(r) + \" is: \" + str(area))"
   ]
  },
  {
   "cell_type": "code",
   "execution_count": 6,
   "metadata": {},
   "outputs": [
    {
     "name": "stdout",
     "output_type": "stream",
     "text": [
      "Enter your first name: ANUM\n",
      "Enter your last name: KHAN\n",
      "your name in reverse order is: KHAN ANUM\n"
     ]
    }
   ],
   "source": [
    "# Write a Python program which accepts the user's first and last name and\n",
    " \n",
    "#print them in reverse order with a space between them. \n",
    " \n",
    "first_name = input(\"Enter your first name: \")\n",
    " \n",
    "last_name = input(\"Enter your last name: \")\n",
    " \n",
    "print(\"your name in reverse order is: \" + last_name + \" \" + first_name)"
   ]
  },
  {
   "cell_type": "code",
   "execution_count": 7,
   "metadata": {},
   "outputs": [
    {
     "name": "stdout",
     "output_type": "stream",
     "text": [
      "Enter first input: anum\n",
      "Enter second input: khan\n",
      "anumkhan\n"
     ]
    }
   ],
   "source": [
    "# Write a python program which takes two inputs from user and print them\n",
    " \n",
    "#addition\n",
    "\n",
    "first_input = input(\"Enter first input: \")\n",
    " \n",
    "second_input = input(\"Enter second input: \")\n",
    " \n",
    "print(first_input + second_input)"
   ]
  },
  {
   "cell_type": "code",
   "execution_count": null,
   "metadata": {},
   "outputs": [],
   "source": []
  }
 ],
 "metadata": {
  "kernelspec": {
   "display_name": "Python 3",
   "language": "python",
   "name": "python3"
  },
  "language_info": {
   "codemirror_mode": {
    "name": "ipython",
    "version": 3
   },
   "file_extension": ".py",
   "mimetype": "text/x-python",
   "name": "python",
   "nbconvert_exporter": "python",
   "pygments_lexer": "ipython3",
   "version": "3.7.4"
  }
 },
 "nbformat": 4,
 "nbformat_minor": 2
}
