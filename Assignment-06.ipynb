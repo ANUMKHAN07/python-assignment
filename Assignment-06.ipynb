{
 "cells": [
  {
   "cell_type": "code",
   "execution_count": 1,
   "metadata": {},
   "outputs": [],
   "source": [
    "# q1\n",
    "# Object-oriented programming (OOP) is a software programming model constructed around objects.This model compartmentalizes \n",
    "# data into objects (data fields) and describes object contents and behavior through the declaration of classes (methods). \n"
   ]
  },
  {
   "cell_type": "code",
   "execution_count": 2,
   "metadata": {},
   "outputs": [],
   "source": [
    "# q2\n",
    "# Object-oriented programming allows for simplified programming. Its benefits include reusability,\n",
    "# refactoring, extensibility, maintenance and efficiency"
   ]
  },
  {
   "cell_type": "code",
   "execution_count": 4,
   "metadata": {},
   "outputs": [],
   "source": [
    "# q3\n",
    "# A function is a piece of code that is called by name. It can be passed data to operate on (i.e. the parameters) and\n",
    "# can optionally return data (the return value). All data that is passed to a function is explicitly passed.\n",
    "# A method is a piece of code that is called by a name that is associated with an object."
   ]
  },
  {
   "cell_type": "code",
   "execution_count": 8,
   "metadata": {},
   "outputs": [],
   "source": [
    "# q4\n",
    "# Class - It is a template or blueprint about the capability of what an object can do.\n",
    "\n",
    "# Object - An object (instance) is an instantiation of a class. When class is defined, only the description for the \n",
    "#          object is defined. Therefore, no memory or storage is allocated.\n",
    "\n",
    "# Attribute - Attributes are data stored inside a class or instance and represent the state or quality of the class or instance.\n",
    "#             In short, attributes store information about the instance.\n",
    "\n",
    "# Behavior - Behavior is the only way objects can do anything to themselves or have anything done to them."
   ]
  },
  {
   "cell_type": "code",
   "execution_count": 6,
   "metadata": {},
   "outputs": [
    {
     "name": "stdout",
     "output_type": "stream",
     "text": [
      "The condition of WagonR is Accidented \n",
      "The Move has 4 passenger seating space\n",
      "The price of Hybrid is 1500985.0 pkr\n"
     ]
    }
   ],
   "source": [
    "# q5\n",
    "class car:\n",
    "\n",
    "    def __init__(self,name,color,model,manufacturer,year):\n",
    "        self.name = name\n",
    "        self.color = color\n",
    "        self.model = model\n",
    "        self.manufacturer = manufacturer\n",
    "        self.year = year\n",
    "    \n",
    "    def status(self, cond): \n",
    "        return \"The condition of {} is {} \".format(self.name,cond)\n",
    "\n",
    "    def price(self, prc):\n",
    "        return \"The price of {} is {} pkr\".format(self.model,prc)\n",
    "    \n",
    "    def capacity(self,num):\n",
    "        return \"The {} has {} passenger seating space\".format(self.name,num)\n",
    "    \n",
    "W = car(\"WagonR\",\"Blue\",\"VXL\",\"Suzuki\",2015)\n",
    "X = car(\"Alto\",\"White\",\"Hybrid\",\"Suzuki\",2018)\n",
    "Y = car(\"BRV\",\"Black\",\"Hybrid\",\"Honda\",2018)\n",
    "Z = car(\"Corolla\",\"Blue\",\"Automatic\",\"Toyota\",2005)\n",
    "V = car(\"Move\",\"White\",\"eco\",\"Dihiatsu\",2018)\n",
    "\n",
    "\n",
    "print(W.status(\"Accidented\"))\n",
    "print(V.capacity(4))\n",
    "print(Y.price(1500985.00))"
   ]
  },
  {
   "cell_type": "code",
   "execution_count": null,
   "metadata": {},
   "outputs": [],
   "source": []
  }
 ],
 "metadata": {
  "kernelspec": {
   "display_name": "Python 3",
   "language": "python",
   "name": "python3"
  },
  "language_info": {
   "codemirror_mode": {
    "name": "ipython",
    "version": 3
   },
   "file_extension": ".py",
   "mimetype": "text/x-python",
   "name": "python",
   "nbconvert_exporter": "python",
   "pygments_lexer": "ipython3",
   "version": "3.7.4"
  }
 },
 "nbformat": 4,
 "nbformat_minor": 2
}
