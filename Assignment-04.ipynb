{
 "cells": [
  {
   "cell_type": "code",
   "execution_count": 1,
   "metadata": {},
   "outputs": [
    {
     "name": "stdout",
     "output_type": "stream",
     "text": [
      "{'person1': {'first_name': 'Sana', 'last_name': 'Khan', 'age': 20, 'city': 'Karachi'}, 'person2': {'first_name': 'Noor', 'last_name': 'Akhtar', 'age': 25, 'city': 'Lahore'}, 'person3': {'first_name': 'Ali', 'last_name': 'Khan', 'age': 30, 'city': 'Hyderabad'}}\n",
      "\n",
      "\n",
      "{'person1': {'first_name': 'Sana', 'last_name': 'Khan', 'age': 20, 'city': 'Karachi', 'qualification': 'intermediate'}, 'person2': {'first_name': 'Noor', 'last_name': 'Akhtar', 'age': 25, 'city': 'Lahore', 'qualification': 'graduate'}, 'person3': {'first_name': 'Ali', 'last_name': 'Khan', 'age': 30, 'city': 'Hyderabad', 'qualification': 'masters'}}\n",
      "\n",
      "\n",
      "{'person1': {'first_name': 'Sana', 'last_name': 'Khan', 'age': 20, 'city': 'Karachi', 'qualification': 'graduate'}, 'person2': {'first_name': 'Noor', 'last_name': 'Akhtar', 'age': 25, 'city': 'Lahore', 'qualification': 'graduate'}, 'person3': {'first_name': 'Ali', 'last_name': 'Khan', 'age': 30, 'city': 'Hyderabad', 'qualification': 'masters'}}\n",
      "\n",
      "\n",
      "{'person1': {'first_name': 'Sana', 'last_name': 'Khan', 'age': 20, 'city': 'Karachi'}, 'person2': {'first_name': 'Noor', 'last_name': 'Akhtar', 'age': 25, 'city': 'Lahore'}, 'person3': {'first_name': 'Ali', 'last_name': 'Khan', 'age': 30, 'city': 'Hyderabad'}}\n"
     ]
    }
   ],
   "source": [
    "#Use a dictionary to store information about a person you know. Store their first name, last name, age,\n",
    "#and the city in which they live. You should have keys such as first_name, last_name, age, and city. Print\n",
    "#each piece of information stored in your dictionary. Add a new key value pair about qualification then\n",
    "#update the qualification value to high academic level then delete it.\n",
    "d = {\"person1\":\n",
    "     {\"first_name\": \"Sana\", \n",
    "      \"last_name\":\"Khan\", \n",
    "      \"age\": 20, \n",
    "      \"city\": \"Karachi\"},\n",
    "    \"person2\":\n",
    "     {\"first_name\": \"Noor\", \n",
    "      \"last_name\":\"Akhtar\", \n",
    "      \"age\": 25, \n",
    "      \"city\": \"Lahore\"},\n",
    "     \"person3\":\n",
    "     {\"first_name\": \"Ali\", \n",
    "      \"last_name\":\"Khan\", \n",
    "      \"age\": 30, \n",
    "      \"city\": \"Hyderabad\"}\n",
    "    }\n",
    "print(d)\n",
    "d[\"person1\"].update({\"qualification\":\"intermediate\"})\n",
    "d[\"person2\"].update({\"qualification\":\"graduate\"})\n",
    "d[\"person3\"].update({\"qualification\":\"masters\"})\n",
    "print(\"\\n\")\n",
    "print(d)\n",
    "d[\"person1\"].update({\"qualification\":\"graduate\"}) #qualification updated to higher level\n",
    "print(\"\\n\")\n",
    "print(d)\n",
    "d[\"person1\"].pop(\"qualification\")\n",
    "d[\"person2\"].pop(\"qualification\")\n",
    "d[\"person3\"].pop(\"qualification\")\n",
    "print(\"\\n\")\n",
    "print(d)"
   ]
  },
  {
   "cell_type": "code",
   "execution_count": 2,
   "metadata": {},
   "outputs": [
    {
     "name": "stdout",
     "output_type": "stream",
     "text": [
      "{'country': 'Pakistan', 'population': '14.91 million', 'fact': 'known as a city of lights'}\n",
      "{'country': 'India', 'population': '18.98 million', 'fact': 'second most populated city of the world'}\n",
      "{'country': 'Japan', 'population': '9.273 million', 'fact': 'great for tax free shopping'}\n"
     ]
    }
   ],
   "source": [
    "#Make a dictionary called cities. Use the names of three cities as keys in your dictionary. Create a\n",
    "#dictionary of information about each city and include the country that the city is in, its approximate\n",
    "#population, and one fact about that city. The keys for each city’s dictionary should be something like\n",
    "#country, population, and fact. Print the name of each city and all of the information you have stored\n",
    "#about it.\n",
    "cities = {\n",
    "    \"Karachi\":{\n",
    "        \"country\":\"Pakistan\",\n",
    "        \"population\": \"14.91 million\",\n",
    "        \"fact\":\"known as a city of lights\"},\n",
    "    \"Delhi\":{\n",
    "        \"country\":\"India\",\n",
    "        \"population\": \"18.98 million\",\n",
    "        \"fact\":\"second most populated city of the world\"},\n",
    "    \"Tokyo\":{\n",
    "        \"country\":\"Japan\",\n",
    "        \"population\": \"9.273 million\",\n",
    "        \"fact\":\"great for tax free shopping\"}\n",
    "    }\n",
    "print(cities[\"Karachi\"])\n",
    "print(cities[\"Delhi\"])\n",
    "print(cities[\"Tokyo\"])"
   ]
  },
  {
   "cell_type": "code",
   "execution_count": 3,
   "metadata": {},
   "outputs": [
    {
     "name": "stdout",
     "output_type": "stream",
     "text": [
      "Enter number of person’s: 4\n",
      "enter age of person: 12\n",
      "the ticket is $15\n",
      "enter age of person: 25\n",
      "the ticket is $15\n",
      "enter age of person: 2\n",
      "ticket is free\n",
      "enter age of person: 7\n",
      "the ticket is $10\n",
      "Total cost is $40\n"
     ]
    }
   ],
   "source": [
    "#A movie theater charges different ticket prices depending on a person’s age. If a person is under the age\n",
    "#of 3, the ticket is free; if they are between 3 and 12, the ticket is $10; and if they are over age 12, the\n",
    "#ticket is $15. Write a loop in which you ask users their age, and then tell them the cost of their movie\n",
    "#ticket.\n",
    "num = int(input(\"Enter number of person’s: \"))\n",
    "i=1\n",
    "sum = 0\n",
    "while i<=num:\n",
    "    i=i+1\n",
    "    age = int(input(\"enter age of person: \"))\n",
    "    if (age<3):\n",
    "        print(\"ticket is free\")\n",
    "        sum = sum + 0\n",
    "    elif (age<12 and age>3):\n",
    "        print(\"the ticket is $10\")\n",
    "        sum = sum + 10\n",
    "    else:\n",
    "        print(\"the ticket is $15\")\n",
    "        sum = sum +15\n",
    "print(\"Total cost is $\" + str(sum))"
   ]
  },
  {
   "cell_type": "code",
   "execution_count": 4,
   "metadata": {},
   "outputs": [
    {
     "name": "stdout",
     "output_type": "stream",
     "text": [
      "One of my favorite books is Alice in Wonderland\n"
     ]
    }
   ],
   "source": [
    "#Write a function called favorite_book() that accepts one parameter, title.\n",
    "#The function should print a message, such as One of my favorite books is Alice in Wonderland. \n",
    "#Call the function, making sure to include a book title as an argument in the function call.\n",
    "def favorite_book(title):\n",
    "    print(\"One of my favorite books is \" + title)\n",
    "    \n",
    "favorite_book(\"Alice in Wonderland\")"
   ]
  },
  {
   "cell_type": "code",
   "execution_count": 5,
   "metadata": {},
   "outputs": [
    {
     "name": "stdout",
     "output_type": "stream",
     "text": [
      "Guess the number game\n",
      "Guess the correct number between 1 to 30 12\n",
      "Try Again!! You have guessed a greater number.\n",
      "Guess the correct number between 1 to 30 6\n",
      "Try Again!! You have guessed a smaller number.\n",
      "Guess the correct number between 1 to 30 10\n",
      "Try Again!! You have guessed a smaller number.\n"
     ]
    }
   ],
   "source": [
    "#Guess the number game\n",
    "#Write a program which randomly generate a number between 1 to 30 and ask the user in input field to guess the correct number. \n",
    "#Give three chances to user guess the number and also give hint to user if hidden number is greater or smaller than the number\n",
    "#given to input field.\n",
    "import random\n",
    "x = random.randint(1,30)\n",
    "print(\"Guess the number game\")\n",
    "i=1\n",
    "while(i<=3):\n",
    "    user_input = int(input(\"Guess the correct number between 1 to 30 \"))\n",
    "    while (i<=3):\n",
    "        i= i+1\n",
    "        if(user_input>x):\n",
    "            print(\"Try Again!! You have guessed a greater number.\")\n",
    "            break\n",
    "        elif(user_input<x):\n",
    "            print(\"Try Again!! You have guessed a smaller number.\")\n",
    "            break\n",
    "        else:\n",
    "            print(\"Congratulations!! You have guessed the correct number.\")\n"
   ]
  },
  {
   "cell_type": "code",
   "execution_count": null,
   "metadata": {},
   "outputs": [],
   "source": []
  }
 ],
 "metadata": {
  "kernelspec": {
   "display_name": "Python 3",
   "language": "python",
   "name": "python3"
  },
  "language_info": {
   "codemirror_mode": {
    "name": "ipython",
    "version": 3
   },
   "file_extension": ".py",
   "mimetype": "text/x-python",
   "name": "python",
   "nbconvert_exporter": "python",
   "pygments_lexer": "ipython3",
   "version": "3.7.4"
  }
 },
 "nbformat": 4,
 "nbformat_minor": 2
}
