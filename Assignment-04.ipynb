{
 "cells": [
  {
   "cell_type": "code",
   "execution_count": 1,
   "metadata": {},
   "outputs": [
    {
     "name": "stdout",
     "output_type": "stream",
     "text": [
      "{'person1': {'first_name': 'Sana', 'last_name': 'Khan', 'age': 20, 'city': 'Karachi'}, 'person2': {'first_name': 'Noor', 'last_name': 'Akhtar', 'age': 25, 'city': 'Lahore'}, 'person3': {'first_name': 'Ali', 'last_name': 'Khan', 'age': 30, 'city': 'Hyderabad'}}\n",
      "\n",
      "\n",
      "{'person1': {'first_name': 'Sana', 'last_name': 'Khan', 'age': 20, 'city': 'Karachi', 'qualification': 'intermediate'}, 'person2': {'first_name': 'Noor', 'last_name': 'Akhtar', 'age': 25, 'city': 'Lahore', 'qualification': 'graduate'}, 'person3': {'first_name': 'Ali', 'last_name': 'Khan', 'age': 30, 'city': 'Hyderabad', 'qualification': 'masters'}}\n",
      "\n",
      "\n",
      "{'person1': {'first_name': 'Sana', 'last_name': 'Khan', 'age': 20, 'city': 'Karachi', 'qualification': 'graduate'}, 'person2': {'first_name': 'Noor', 'last_name': 'Akhtar', 'age': 25, 'city': 'Lahore', 'qualification': 'graduate'}, 'person3': {'first_name': 'Ali', 'last_name': 'Khan', 'age': 30, 'city': 'Hyderabad', 'qualification': 'masters'}}\n",
      "\n",
      "\n",
      "{'person1': {'first_name': 'Sana', 'last_name': 'Khan', 'age': 20, 'city': 'Karachi'}, 'person2': {'first_name': 'Noor', 'last_name': 'Akhtar', 'age': 25, 'city': 'Lahore'}, 'person3': {'first_name': 'Ali', 'last_name': 'Khan', 'age': 30, 'city': 'Hyderabad'}}\n"
     ]
    }
   ],
   "source": [
    "#q1\n",
    "d = {\"person1\":\n",
    "     {\"first_name\": \"Sana\", \n",
    "      \"last_name\":\"Khan\", \n",
    "      \"age\": 20, \n",
    "      \"city\": \"Karachi\"},\n",
    "    \"person2\":\n",
    "     {\"first_name\": \"Noor\", \n",
    "      \"last_name\":\"Akhtar\", \n",
    "      \"age\": 25, \n",
    "      \"city\": \"Lahore\"},\n",
    "     \"person3\":\n",
    "     {\"first_name\": \"Ali\", \n",
    "      \"last_name\":\"Khan\", \n",
    "      \"age\": 30, \n",
    "      \"city\": \"Hyderabad\"}\n",
    "    }\n",
    "print(d)\n",
    "d[\"person1\"].update({\"qualification\":\"intermediate\"})\n",
    "d[\"person2\"].update({\"qualification\":\"graduate\"})\n",
    "d[\"person3\"].update({\"qualification\":\"masters\"})\n",
    "print(\"\\n\")\n",
    "print(d)\n",
    "d[\"person1\"].update({\"qualification\":\"graduate\"}) #qualification updated to higher level\n",
    "print(\"\\n\")\n",
    "print(d)\n",
    "d[\"person1\"].pop(\"qualification\")\n",
    "d[\"person2\"].pop(\"qualification\")\n",
    "d[\"person3\"].pop(\"qualification\")\n",
    "print(\"\\n\")\n",
    "print(d)"
   ]
  },
  {
   "cell_type": "code",
   "execution_count": 5,
   "metadata": {},
   "outputs": [
    {
     "name": "stdout",
     "output_type": "stream",
     "text": [
      "Karachi: {'country': 'Pakistan', 'population': '14.91 million', 'fact': 'known as a city of lights'}\n",
      "Delhi: {'country': 'India', 'population': '18.98 million', 'fact': 'second most populated city of the world'}\n",
      "Tokyo: {'country': 'Japan', 'population': '9.273 million', 'fact': 'great for tax free shopping'}\n"
     ]
    }
   ],
   "source": [
    "#q2\n",
    "cities = {\n",
    "    \"Karachi\":{\n",
    "        \"country\":\"Pakistan\",\n",
    "        \"population\": \"14.91 million\",\n",
    "        \"fact\":\"known as a city of lights\"},\n",
    "    \"Delhi\":{\n",
    "        \"country\":\"India\",\n",
    "        \"population\": \"18.98 million\",\n",
    "        \"fact\":\"second most populated city of the world\"},\n",
    "    \"Tokyo\":{\n",
    "        \"country\":\"Japan\",\n",
    "        \"population\": \"9.273 million\",\n",
    "        \"fact\":\"great for tax free shopping\"}\n",
    "    }\n",
    "print(\"Karachi: \"+ str(cities[\"Karachi\"]))\n",
    "print(\"Delhi: \"+ str(cities[\"Delhi\"]))\n",
    "print(\"Tokyo: \" + str(cities[\"Tokyo\"]))"
   ]
  },
  {
   "cell_type": "code",
   "execution_count": 6,
   "metadata": {},
   "outputs": [
    {
     "name": "stdout",
     "output_type": "stream",
     "text": [
      "Enter number of person’s: 4\n",
      "enter age of person: 12\n",
      "the ticket is $15\n",
      "enter age of person: 20\n",
      "the ticket is $15\n",
      "enter age of person: 10\n",
      "the ticket is $10\n",
      "enter age of person: 8\n",
      "the ticket is $10\n",
      "Total cost is $50\n"
     ]
    }
   ],
   "source": [
    "#q3\n",
    "num = int(input(\"Enter number of person’s: \"))\n",
    "i=1\n",
    "sum = 0\n",
    "while i<=num:\n",
    "    i=i+1\n",
    "    age = int(input(\"enter age of person: \"))\n",
    "    if (age<3):\n",
    "        print(\"ticket is free\")\n",
    "        sum = sum + 0\n",
    "    elif (age<12 and age>3):\n",
    "        print(\"the ticket is $10\")\n",
    "        sum = sum + 10\n",
    "    else:\n",
    "        print(\"the ticket is $15\")\n",
    "        sum = sum +15\n",
    "print(\"Total cost is $\" + str(sum))"
   ]
  },
  {
   "cell_type": "code",
   "execution_count": 7,
   "metadata": {},
   "outputs": [
    {
     "name": "stdout",
     "output_type": "stream",
     "text": [
      "One of my favorite books is Alice in Wonderland\n"
     ]
    }
   ],
   "source": [
    "def favorite_book(title):\n",
    "    print(\"One of my favorite books is \" + title)\n",
    "    \n",
    "favorite_book(\"Alice in Wonderland\")"
   ]
  },
  {
   "cell_type": "code",
   "execution_count": 9,
   "metadata": {},
   "outputs": [
    {
     "name": "stdout",
     "output_type": "stream",
     "text": [
      "Guess the number game\n",
      "Guess the correct number between 1 to 30 10\n",
      "Try Again!! You have guessed a smaller number.\n",
      "Guess the correct number between 1 to 30 15\n",
      "Try Again!! You have guessed a greater number.\n",
      "Guess the correct number between 1 to 30 13\n",
      "Congratulations!! You have guessed the correct number.\n"
     ]
    }
   ],
   "source": [
    "import random\n",
    "x = random.randint(1,30)\n",
    "print(\"Guess the number game\")\n",
    "i=1\n",
    "while(i<=3):\n",
    "    user_input = int(input(\"Guess the correct number between 1 to 30 \"))\n",
    "    while (i<=3):\n",
    "        i= i+1\n",
    "        if(user_input>x):\n",
    "            print(\"Try Again!! You have guessed a greater number.\")\n",
    "            break\n",
    "        elif(user_input<x):\n",
    "            print(\"Try Again!! You have guessed a smaller number.\")\n",
    "            break\n",
    "        else:\n",
    "            print(\"Congratulations!! You have guessed the correct number.\")\n",
    "            break"
   ]
  },
  {
   "cell_type": "code",
   "execution_count": null,
   "metadata": {},
   "outputs": [],
   "source": []
  }
 ],
 "metadata": {
  "kernelspec": {
   "display_name": "Python 3",
   "language": "python",
   "name": "python3"
  },
  "language_info": {
   "codemirror_mode": {
    "name": "ipython",
    "version": 3
   },
   "file_extension": ".py",
   "mimetype": "text/x-python",
   "name": "python",
   "nbconvert_exporter": "python",
   "pygments_lexer": "ipython3",
   "version": "3.7.4"
  }
 },
 "nbformat": 4,
 "nbformat_minor": 2
}
