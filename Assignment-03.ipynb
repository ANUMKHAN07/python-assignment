{
 "cells": [
  {
   "cell_type": "code",
   "execution_count": 1,
   "metadata": {},
   "outputs": [
    {
     "name": "stdout",
     "output_type": "stream",
     "text": [
      "Enter first number: 75\n",
      "Enter second number: 15\n",
      "Select on of the following operation:\n",
      " + for addition\n",
      " - for subtraction\n",
      " * for multiplication\n",
      " / for division\n",
      " ** for power\n",
      "Enter operator to use:/\n",
      "The answer of a / b is = 5.0\n"
     ]
    }
   ],
   "source": [
    "a = int(input(\"Enter first number: \"))\n",
    " \n",
    "b = int(input(\"Enter second number: \"))\n",
    "\n",
    "print(\"Select on of the following operation:\\n + for addition\\n - for subtraction\\n * for multiplication\\n / for division\\n ** for power\")\n",
    "\n",
    "c = input(\"Enter operator to use:\")\n",
    "\n",
    "if c == '+':\n",
    "\n",
    "    ans = a+b\n",
    "\n",
    "    print(\"The answer of a\",c,\"b is =\",ans)\n",
    "\n",
    "elif c == '-':\n",
    "\n",
    "    ans = a-b\n",
    "\n",
    "    print(\"The answer of a\",c,\"b is =\",ans)\n",
    "\n",
    "elif c == '*':\n",
    "\n",
    "    ans = a*b\n",
    "\n",
    "    print(\"The answer of a\",c,\"b is =\",ans)\n",
    "\n",
    "elif c == '/':\n",
    "\n",
    "    ans = a/b\n",
    "\n",
    "    print(\"The answer of a\",c,\"b is =\",ans)\n",
    "\n",
    "elif c == '**':\n",
    " \n",
    "    ans = a**b\n",
    " \n",
    "    print(\"The answer of a\",c,\"b is =\",ans)\n",
    "\n",
    "else:\n",
    "\n",
    "    print(\"Invalid input\") "
   ]
  },
  {
   "cell_type": "code",
   "execution_count": 3,
   "metadata": {},
   "outputs": [
    {
     "name": "stdout",
     "output_type": "stream",
     "text": [
      "Enter list values separated by comma : 1,5,4,54,32,12\n",
      "The numbers list is :  [1, 5, 4, 54, 32, 12]\n"
     ]
    }
   ],
   "source": [
    "string = input(\"Enter list values separated by comma : \")  \n",
    " \n",
    "res = [int(i) for i in string.split(\",\") if i.isdigit()] \n",
    " \n",
    "print(\"The numbers list is : \",str(res))"
   ]
  },
  {
   "cell_type": "code",
   "execution_count": 5,
   "metadata": {},
   "outputs": [
    {
     "name": "stdout",
     "output_type": "stream",
     "text": [
      "Enter number of keys to add :2\n",
      "Enter key value pairs1 one\n",
      "Enter key value pairs2 two\n",
      "The user entered key:values are :  {'1': 'one', '2': 'two'}\n"
     ]
    }
   ],
   "source": [
    "user_dict = {}\n",
    " \n",
    "n = int(input(\"Enter number of keys to add :\"))\n",
    " \n",
    "for i in range(n) :\n",
    " \n",
    "    string = input('Enter key value pairs')\n",
    " \n",
    "    (key,value) = string.split()\n",
    " \n",
    "    user_dict[key] = value\n",
    " \n",
    "print(\"The user entered key:values are : \",user_dict)"
   ]
  },
  {
   "cell_type": "code",
   "execution_count": 7,
   "metadata": {},
   "outputs": [
    {
     "name": "stdout",
     "output_type": "stream",
     "text": [
      "Enter number of keys to add :4\n",
      "Enter key value pairs1 54\n",
      "Enter key value pairs2 100\n",
      "Enter key value pairs3 -50\n",
      "Enter key value pairs4 6\n",
      "The total sum key values is : 110\n"
     ]
    }
   ],
   "source": [
    "user_dict = {}\n",
    " \n",
    "sum = 0\n",
    " \n",
    "n = int(input(\"Enter number of keys to add :\"))\n",
    " \n",
    "for i in range(n) :\n",
    " \n",
    "    string = input('Enter key value pairs')\n",
    " \n",
    "    (key,value) = string.split()\n",
    " \n",
    "    user_dict[key] = value\n",
    " \n",
    "    sum = sum + int(value)\n",
    " \n",
    "print(\"The total sum key values is :\",sum)"
   ]
  },
  {
   "cell_type": "code",
   "execution_count": 8,
   "metadata": {},
   "outputs": [
    {
     "name": "stdout",
     "output_type": "stream",
     "text": [
      "Enter values in list separated by comma 12,22,43,12,21,3,12,22\n",
      "The duplicate value is : 12\n",
      "The duplicate value is : 12\n",
      "The duplicate value is : 22\n"
     ]
    }
   ],
   "source": [
    "lst = []\n",
    " \n",
    "val = input(\"Enter values in list separated by comma \")\n",
    " \n",
    "lst = [int(x) for x in val.split(\",\")]\n",
    " \n",
    "lst.sort()\n",
    " \n",
    "for i in range (len (lst)-1):\n",
    " \n",
    "    if lst[i] == lst[i+1]:\n",
    " \n",
    "        print(\"The duplicate value is :\",lst[i])"
   ]
  },
  {
   "cell_type": "code",
   "execution_count": 10,
   "metadata": {},
   "outputs": [
    {
     "name": "stdout",
     "output_type": "stream",
     "text": [
      "Enter key to check:B\n",
      "Key is present and value of the key is: 2\n"
     ]
    }
   ],
   "source": [
    "d = {'A':1,'B':2,'C':3} \n",
    " \n",
    "key = input(\"Enter key to check:\")\n",
    " \n",
    "if key in d.keys():\n",
    " \n",
    "      print(\"Key is present and value of the key is:\",d[key])\n",
    "\n",
    "else:\n",
    " \n",
    "      print(\"Key isn't present!\")"
   ]
  },
  {
   "cell_type": "code",
   "execution_count": null,
   "metadata": {},
   "outputs": [],
   "source": []
  }
 ],
 "metadata": {
  "kernelspec": {
   "display_name": "Python 3",
   "language": "python",
   "name": "python3"
  },
  "language_info": {
   "codemirror_mode": {
    "name": "ipython",
    "version": 3
   },
   "file_extension": ".py",
   "mimetype": "text/x-python",
   "name": "python",
   "nbconvert_exporter": "python",
   "pygments_lexer": "ipython3",
   "version": "3.7.4"
  }
 },
 "nbformat": 4,
 "nbformat_minor": 2
}
